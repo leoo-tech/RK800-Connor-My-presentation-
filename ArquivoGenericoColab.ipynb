{
  "nbformat": 4,
  "nbformat_minor": 0,
  "metadata": {
    "colab": {
      "provenance": [],
      "include_colab_link": true
    },
    "kernelspec": {
      "name": "python3",
      "display_name": "Python 3"
    },
    "language_info": {
      "name": "python"
    }
  },
  "cells": [
    {
      "cell_type": "markdown",
      "metadata": {
        "id": "view-in-github",
        "colab_type": "text"
      },
      "source": [
        "<a href=\"https://colab.research.google.com/github/leoo-tech/RK800-Connor-My-presentation-/blob/main/ArquivoGenericoColab.ipynb\" target=\"_parent\"><img src=\"https://colab.research.google.com/assets/colab-badge.svg\" alt=\"Open In Colab\"/></a>"
      ]
    },
    {
      "cell_type": "markdown",
      "source": [
        "# Arquivo genérico para o desenvolvimento de códigos:"
      ],
      "metadata": {
        "id": "oBgkpTMZ3ql4"
      }
    },
    {
      "cell_type": "markdown",
      "source": [
        "## **ATENÇÃO**: Leia o texto a seguir antes de prosseguir\n",
        "\n",
        "A sequência de textos e exemplos abaixo tem como objetivo guiar o seu aprendizado. Porém, não edite diretamente no documento compartilhado pelo professor. Antes, vá no menu Arquivo -> Salvar uma cópia no drive. Logo em seguida, abrirá uma nova aba com o seu Colab e este sim você pode editar à vontade. Cada célula de código abaixo (marcadas com [ ]) pode ser alterada e executada (apertando o botão play à esquerda)."
      ],
      "metadata": {
        "id": "FF6rbGz94Yjr"
      }
    },
    {
      "cell_type": "markdown",
      "source": [
        "### Caro(a) aluno(a), você poderá utilizar essa plataforma como ambiente de desenvolvimento dos seus códigos em Python para fazer as atividades da maioria dos módulos deste curso.\n",
        "\n",
        "Observação: Talvez apenas para os módulos que envolvam a biblioteca jogos_python essa plataforma não seja adequada."
      ],
      "metadata": {
        "id": "r7Fjb6dXSf67"
      }
    },
    {
      "cell_type": "markdown",
      "source": [
        "### Questão 1)"
      ],
      "metadata": {
        "id": "qlSAarFI6iX3"
      }
    },
    {
      "cell_type": "code",
      "source": [
        "\n",
        "\n",
        "\n",
        "\n",
        "\n",
        "\n",
        "\n",
        "#O seu código vem aqui \\o/\n",
        "\n",
        "\n",
        "\n",
        "\n",
        "\n",
        "\n"
      ],
      "metadata": {
        "id": "poHpEcl0QBuI"
      },
      "execution_count": null,
      "outputs": []
    },
    {
      "cell_type": "markdown",
      "source": [
        "### Questão 2)"
      ],
      "metadata": {
        "id": "rXSl8C9lVnNB"
      }
    },
    {
      "cell_type": "code",
      "source": [
        "\n",
        "\n",
        "\n",
        "\n",
        "\n",
        "#O seu código vem aqui \\o/\n",
        "\n",
        "\n",
        "\n",
        "\n"
      ],
      "metadata": {
        "id": "M2irL5gjVuGd"
      },
      "execution_count": null,
      "outputs": []
    },
    {
      "cell_type": "markdown",
      "source": [
        "### Questão 3)"
      ],
      "metadata": {
        "id": "Fzv8RMxvSRn2"
      }
    },
    {
      "cell_type": "code",
      "source": [
        "\n",
        "\n",
        "\n",
        "\n",
        "\n",
        "\n",
        "#O seu código vem aqui \\o/\n",
        "\n",
        "\n",
        "\n",
        "\n",
        "\n"
      ],
      "metadata": {
        "id": "yoNYgisTSlfs"
      },
      "execution_count": null,
      "outputs": []
    }
  ]
}